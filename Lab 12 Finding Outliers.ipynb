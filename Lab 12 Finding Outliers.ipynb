{
 "cells": [
  {
   "cell_type": "markdown",
   "metadata": {},
   "source": [
    "<p style=\"text-align:center\">\n",
    "    <a href=\"https://skills.network\" target=\"_blank\">\n",
    "    <img src=\"https://cf-courses-data.s3.us.cloud-object-storage.appdomain.cloud/assets/logos/SN_web_lightmode.png\" width=\"200\" alt=\"Skills Network Logo\"  />\n",
    "    </a>\n",
    "</p>\n"
   ]
  },
  {
   "cell_type": "markdown",
   "metadata": {},
   "source": [
    "# **Finding Outliers**\n"
   ]
  },
  {
   "cell_type": "markdown",
   "metadata": {},
   "source": [
    "Estimated time needed: **30** minutes\n"
   ]
  },
  {
   "cell_type": "markdown",
   "metadata": {},
   "source": [
    "In this lab, you will work with a cleaned dataset to perform exploratory data analysis or EDA. \n",
    "You will explore the distribution of key variables and focus on identifying outliers in this lab.\n"
   ]
  },
  {
   "cell_type": "markdown",
   "metadata": {},
   "source": [
    "## Objectives\n"
   ]
  },
  {
   "cell_type": "markdown",
   "metadata": {},
   "source": [
    "In this lab, you will perform the following:\n"
   ]
  },
  {
   "cell_type": "markdown",
   "metadata": {},
   "source": [
    "-  Analyze the distribution of key variables in the dataset.\n",
    "\n",
    "-  Identify and remove outliers using statistical methods.\n",
    "\n",
    "-  Perform relevant statistical and correlation analysis.\n"
   ]
  },
  {
   "cell_type": "markdown",
   "metadata": {},
   "source": [
    "#### Install and import the required libraries\n"
   ]
  },
  {
   "cell_type": "code",
   "execution_count": null,
   "metadata": {},
   "outputs": [],
   "source": [
    "!pip install pandas\n",
    "!pip install matplotlib\n",
    "!pip install seaborn\n",
    "\n",
    "import pandas as pd\n",
    "import matplotlib.pyplot as plt\n",
    "import seaborn as sns"
   ]
  },
  {
   "cell_type": "markdown",
   "metadata": {},
   "source": [
    "<h3>Step 1: Load and Explore the Dataset</h3>\n"
   ]
  },
  {
   "cell_type": "markdown",
   "metadata": {},
   "source": [
    "Load the dataset into a DataFrame and examine the structure of the data.\n"
   ]
  },
  {
   "cell_type": "code",
   "execution_count": null,
   "metadata": {},
   "outputs": [],
   "source": [
    "file_url = \"https://cf-courses-data.s3.us.cloud-object-storage.appdomain.cloud/n01PQ9pSmiRX6520flujwQ/survey-data.csv\"\n",
    "\n",
    "#Create the dataframe\n",
    "df = pd.read_csv(file_url)\n",
    "\n",
    "#Display the top 10 records\n",
    "df.head()\n"
   ]
  },
  {
   "cell_type": "markdown",
   "metadata": {},
   "source": [
    "<h3>Step 2: Plot the Distribution of Industry</h3>\n"
   ]
  },
  {
   "cell_type": "markdown",
   "metadata": {},
   "source": [
    "Explore how respondents are distributed across different industries.\n",
    "\n",
    "- Plot a bar chart to visualize the distribution of respondents by industry.\n",
    "\n",
    "- Highlight any notable trends.\n"
   ]
  },
  {
   "cell_type": "code",
   "execution_count": null,
   "metadata": {},
   "outputs": [],
   "source": [
    "##Write your code here\n",
    "# Plot the distribution of 'Industry' (fixing the warning)\n",
    "plt.figure(figsize=(16, 8))  # Adjust figure size for better readability\n",
    "industry_counts = df['Industry'].value_counts()\n",
    "sns.barplot(x=industry_counts.index, y=industry_counts.values, hue=industry_counts.index, palette=\"viridis\", legend=False)  # Fix for deprecation warning\n",
    "plt.title('Distribution of Respondents by Industry')\n",
    "plt.xlabel('Industry')\n",
    "plt.ylabel('Number of Respondents')\n",
    "plt.xticks(rotation=45, ha='right', fontsize=10) # Reduced font size of x-axis labels\n",
    "plt.tight_layout()\n",
    "plt.show()"
   ]
  },
  {
   "cell_type": "markdown",
   "metadata": {},
   "source": [
    "<h3>Step 3: Identify High Compensation Outliers</h3>\n"
   ]
  },
  {
   "cell_type": "markdown",
   "metadata": {},
   "source": [
    "Identify respondents with extremely high yearly compensation.\n",
    "\n",
    "- Calculate basic statistics (mean, median, and standard deviation) for `ConvertedCompYearly`.\n",
    "\n",
    "- Identify compensation values exceeding a defined threshold (e.g., 3 standard deviations above the mean).\n"
   ]
  },
  {
   "cell_type": "code",
   "execution_count": null,
   "metadata": {},
   "outputs": [],
   "source": [
    "##Write your code here\n",
    "# Calculate basic statistics for ConvertedCompYearly\n",
    "mean_comp = df['ConvertedCompYearly'].mean()\n",
    "median_comp = df['ConvertedCompYearly'].median()\n",
    "std_comp = df['ConvertedCompYearly'].std()\n",
    "\n",
    "print(f\"Mean Compensation: {mean_comp}\")\n",
    "print(f\"Median Compensation: {median_comp}\")\n",
    "print(f\"Standard Deviation of Compensation: {std_comp}\")\n",
    "\n",
    "# Identify outliers using 3 standard deviations above the mean\n",
    "outlier_threshold = mean_comp + (3 * std_comp)\n",
    "high_comp_outliers = df[df['ConvertedCompYearly'] > outlier_threshold]\n",
    "\n",
    "print(f\"\\nNumber of high compensation outliers (>{outlier_threshold}): {len(high_comp_outliers)}\")\n",
    "print(\"\\nHigh Compensation Outliers:\")\n",
    "print(high_comp_outliers[['ResponseId', 'ConvertedCompYearly', 'Country']])\n",
    "\n",
    "#Alternative way using quantiles\n",
    "q75 = df['ConvertedCompYearly'].quantile(0.75)\n",
    "q25 = df['ConvertedCompYearly'].quantile(0.25)\n",
    "iqr = q75 - q25\n",
    "upper_bound = q75 + (1.5 * iqr)\n",
    "high_comp_outliers_iqr = df[df['ConvertedCompYearly'] > upper_bound]\n",
    "\n",
    "print(f\"\\nNumber of high compensation outliers using IQR (>{upper_bound}): {len(high_comp_outliers_iqr)}\")\n",
    "print(\"\\nHigh Compensation Outliers using IQR:\")\n",
    "print(high_comp_outliers_iqr[['ResponseId', 'ConvertedCompYearly', 'Country']])"
   ]
  },
  {
   "cell_type": "markdown",
   "metadata": {},
   "source": [
    "<h3>Step 4: Detect Outliers in Compensation</h3>\n"
   ]
  },
  {
   "cell_type": "markdown",
   "metadata": {},
   "source": [
    "Identify outliers in the `ConvertedCompYearly` column using the IQR method.\n",
    "\n",
    "- Calculate the Interquartile Range (IQR).\n",
    "\n",
    "- Determine the upper and lower bounds for outliers.\n",
    "\n",
    "- Count and visualize outliers using a box plot.\n"
   ]
  },
  {
   "cell_type": "code",
   "execution_count": null,
   "metadata": {},
   "outputs": [],
   "source": [
    "##Write your code here\n",
    "# Calculate quartiles and IQR\n",
    "Q1 = df['ConvertedCompYearly'].quantile(0.25)\n",
    "Q3 = df['ConvertedCompYearly'].quantile(0.75)\n",
    "IQR = Q3 - Q1\n",
    "\n",
    "# Define outlier bounds\n",
    "lower_bound = Q1 - 1.5 * IQR\n",
    "upper_bound = Q3 + 1.5 * IQR\n",
    "\n",
    "# Identify outliers\n",
    "outliers = df[(df['ConvertedCompYearly'] < lower_bound) | (df['ConvertedCompYearly'] > upper_bound)]\n",
    "\n",
    "# Count outliers\n",
    "num_outliers = len(outliers)\n",
    "print(f\"Number of outliers: {num_outliers}\")\n",
    "print(f\"Lower Bound: {lower_bound}\")\n",
    "print(f\"Upper Bound: {upper_bound}\")\n",
    "\n",
    "# Visualize outliers with a box plot\n",
    "plt.figure(figsize=(8, 6))\n",
    "sns.boxplot(y='ConvertedCompYearly', data=df)\n",
    "plt.title('Box Plot of Yearly Compensation with Outliers')\n",
    "plt.ylabel('Yearly Compensation')\n",
    "plt.yscale('log') # Use logarithmic scale for better visualization of spread\n",
    "plt.show()\n",
    "\n",
    "# Visualize outliers with a histogram\n",
    "plt.figure(figsize=(10, 6))\n",
    "plt.hist(df['ConvertedCompYearly'], bins=50, range=(0, upper_bound*2)) #Limit the range to avoid extreme outliers\n",
    "plt.title('Histogram of Yearly Compensation with Outliers')\n",
    "plt.xlabel('Yearly Compensation')\n",
    "plt.ylabel('Frequency')\n",
    "plt.show()\n"
   ]
  },
  {
   "cell_type": "code",
   "execution_count": null,
   "metadata": {},
   "outputs": [],
   "source": [
    "# Calculate the Interquartile Range (IQR) for ConvertedCompYearly\n",
    "Q1 = df['ConvertedCompYearly'].quantile(0.25)\n",
    "Q3 = df['ConvertedCompYearly'].quantile(0.75)\n",
    "IQR = Q3 - Q1\n",
    "\n",
    "print(f'Q1 (25th percentile): {Q1}')\n",
    "print(f'Q3 (75th percentile): {Q3}')\n",
    "print(f'IQR (Interquartile Range): {IQR}')\n",
    "\n",
    "# Determine the upper and lower bounds for outliers\n",
    "lower_bound = Q1 - 1.5 * IQR\n",
    "upper_bound = Q3 + 1.5 * IQR\n",
    "\n",
    "print(f'Lower bound for outliers: {lower_bound}')\n",
    "print(f'Upper bound for outliers: {upper_bound}')\n",
    "\n",
    "# Identify outliers in the ConvertedCompYearly column\n",
    "outliers = df[(df['ConvertedCompYearly'] < lower_bound) | (df['ConvertedCompYearly'] > upper_bound)]\n",
    "\n",
    "print(f'Number of outliers: {len(outliers)}')\n",
    "print(outliers[['ResponseId', 'ConvertedCompYearly']])\n",
    "\n",
    "# Visualize outliers using a box plot\n",
    "plt.figure(figsize=(10, 6))\n",
    "sns.boxplot(data=df, x='ConvertedCompYearly')\n",
    "plt.xlabel('Yearly Compensation')\n",
    "plt.title('Box Plot of Yearly Compensation with Outliers')\n",
    "plt.show()"
   ]
  },
  {
   "cell_type": "code",
   "execution_count": null,
   "metadata": {},
   "outputs": [],
   "source": [
    "# Visualize outliers using a box plot\n",
    "plt.figure(figsize=(10, 6))\n",
    "sns.boxplot(data=df, x='ConvertedCompYearly')\n",
    "plt.xlabel('Yearly Compensation')\n",
    "plt.title('Box Plot of Yearly Compensation with Outliers')\n",
    "plt.show()"
   ]
  },
  {
   "cell_type": "markdown",
   "metadata": {},
   "source": [
    "<h3>Step 5: Remove Outliers and Create a New DataFrame</h3>\n"
   ]
  },
  {
   "cell_type": "markdown",
   "metadata": {},
   "source": [
    "Remove outliers from the dataset.\n",
    "\n",
    "- Create a new DataFrame excluding rows with outliers in `ConvertedCompYearly`.\n",
    "- Validate the size of the new DataFrame.\n"
   ]
  },
  {
   "cell_type": "code",
   "execution_count": null,
   "metadata": {},
   "outputs": [],
   "source": [
    "##Write your code here\n",
    "# Remove negative compensation values (as in the previous step)\n",
    "df = df[df['ConvertedCompYearly'] >= 0]\n",
    "\n",
    "# Calculate quartiles and IQR\n",
    "Q1 = df['ConvertedCompYearly'].quantile(0.25)\n",
    "Q3 = df['ConvertedCompYearly'].quantile(0.75)\n",
    "IQR = Q3 - Q1\n",
    "\n",
    "# Define outlier bounds\n",
    "lower_bound = Q1 - 1.5 * IQR\n",
    "upper_bound = Q3 + 1.5 * IQR\n",
    "\n",
    "# Create a new DataFrame *excluding* outliers\n",
    "df_no_outliers = df[(df['ConvertedCompYearly'] >= lower_bound) & (df['ConvertedCompYearly'] <= upper_bound)]\n",
    "\n",
    "# Validate the size of the new DataFrame\n",
    "print(f\"Original DataFrame size: {len(df)}\")\n",
    "print(f\"DataFrame size after removing outliers: {len(df_no_outliers)}\")\n",
    "\n",
    "# Visualize the data without outliers with a box plot\n",
    "plt.figure(figsize=(8, 6))\n",
    "sns.boxplot(y='ConvertedCompYearly', data=df_no_outliers)\n",
    "plt.title('Box Plot of Yearly Compensation without Outliers')\n",
    "plt.ylabel('Yearly Compensation')\n",
    "plt.yscale('log') # Use logarithmic scale for better visualization of spread\n",
    "plt.show()\n",
    "\n",
    "# Visualize the data without outliers with a histogram\n",
    "plt.figure(figsize=(10, 6))\n",
    "plt.hist(df_no_outliers['ConvertedCompYearly'], bins=50)\n",
    "plt.title('Histogram of Yearly Compensation without Outliers')\n",
    "plt.xlabel('Yearly Compensation')\n",
    "plt.ylabel('Frequency')\n",
    "plt.show()"
   ]
  },
  {
   "cell_type": "markdown",
   "metadata": {},
   "source": [
    "<h3>Step 6: Correlation Analysis</h3>\n"
   ]
  },
  {
   "cell_type": "markdown",
   "metadata": {},
   "source": [
    "Analyze the correlation between `Age` (transformed) and other numerical columns.\n",
    "\n",
    "- Map the `Age` column to approximate numeric values.\n",
    "\n",
    "- Compute correlations between `Age` and other numeric variables.\n",
    "\n",
    "- Visualize the correlation matrix.\n"
   ]
  },
  {
   "cell_type": "code",
   "execution_count": null,
   "metadata": {},
   "outputs": [],
   "source": [
    "##Write your code here"
   ]
  },
  {
   "cell_type": "markdown",
   "metadata": {},
   "source": [
    "<h3> Summary </h3>\n"
   ]
  },
  {
   "cell_type": "markdown",
   "metadata": {},
   "source": [
    "In this lab, you developed essential skills in **Exploratory Data Analysis (EDA)** with a focus on outlier detection and removal. Specifically, you:\n"
   ]
  },
  {
   "cell_type": "markdown",
   "metadata": {},
   "source": [
    "- Loaded and explored the dataset to understand its structure.\n",
    "\n",
    "- Analyzed the distribution of respondents across industries.\n",
    "\n",
    "- Identified and removed high compensation outliers using statistical thresholds and the Interquartile Range (IQR) method.\n",
    "\n",
    "- Performed correlation analysis, including transforming the `Age` column into numeric values for better analysis.\n"
   ]
  },
  {
   "cell_type": "markdown",
   "metadata": {},
   "source": [
    "<!--\n",
    "## Change Log\n",
    "|Date (YYYY-MM-DD)|Version|Changed By|Change Description|\n",
    "|-|-|-|-|               \n",
    "|2024-10-1|1.1|Madhusudan Moole|Reviewed and updated lab|                                                                                    \n",
    "|2024-09-29|1.0|Raghul Ramesh|Created lab|\n",
    "--!>\n"
   ]
  },
  {
   "cell_type": "markdown",
   "metadata": {},
   "source": [
    "Copyright © IBM Corporation. All rights reserved.\n"
   ]
  }
 ],
 "metadata": {
  "kernelspec": {
   "display_name": "Python 3 (ipykernel)",
   "language": "python",
   "name": "python3"
  },
  "language_info": {
   "codemirror_mode": {
    "name": "ipython",
    "version": 3
   },
   "file_extension": ".py",
   "mimetype": "text/x-python",
   "name": "python",
   "nbconvert_exporter": "python",
   "pygments_lexer": "ipython3",
   "version": "3.12.8"
  },
  "prev_pub_hash": "bfb6b5324ee15056f94c357f33a9f92b9c3ff0f4ad4b517e8e51e820f5595113"
 },
 "nbformat": 4,
 "nbformat_minor": 4
}

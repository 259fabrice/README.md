{
 "cells": [
  {
   "cell_type": "markdown",
   "metadata": {},
   "source": [
    "<p style=\"text-align:center\">\n",
    "    <a href=\"https://skills.network\" target=\"_blank\">\n",
    "    <img src=\"https://cf-courses-data.s3.us.cloud-object-storage.appdomain.cloud/assets/logos/SN_web_lightmode.png\" width=\"200\" alt=\"Skills Network Logo\"  />\n",
    "    </a>\n",
    "</p>\n"
   ]
  },
  {
   "cell_type": "markdown",
   "metadata": {},
   "source": [
    "# **Lab: Exploratory Data Analysis**\n"
   ]
  },
  {
   "cell_type": "markdown",
   "metadata": {},
   "source": [
    "Estimated time needed: **30** minutes\n"
   ]
  },
  {
   "cell_type": "markdown",
   "metadata": {},
   "source": [
    "In this lab, you will work with a cleaned dataset to perform Exploratory Data Analysis or EDA. \n"
   ]
  },
  {
   "cell_type": "markdown",
   "metadata": {},
   "source": [
    "## Objectives\n"
   ]
  },
  {
   "cell_type": "markdown",
   "metadata": {},
   "source": [
    "In this lab, you will perform the following:\n"
   ]
  },
  {
   "cell_type": "markdown",
   "metadata": {},
   "source": [
    "- Examine the structure of a dataset.\n",
    "\n",
    "- Handle missing values effectively.\n",
    "\n",
    "- Conduct summary statistics on key columns.\n",
    "\n",
    "- Analyze employment status, job satisfaction, programming language usage, and trends in remote work.\n"
   ]
  },
  {
   "cell_type": "markdown",
   "metadata": {},
   "source": [
    "## Hands on Lab\n"
   ]
  },
  {
   "cell_type": "markdown",
   "metadata": {},
   "source": [
    "#### Step 1: Install and Import Libraries\n"
   ]
  },
  {
   "cell_type": "markdown",
   "metadata": {},
   "source": [
    "Install the necessary libraries for data manipulation and visualization.\n"
   ]
  },
  {
   "cell_type": "code",
   "execution_count": null,
   "metadata": {},
   "outputs": [],
   "source": [
    "!pip install pandas\n",
    "!pip install matplotlib\n",
    "!pip install seaborn\n",
    "\n",
    "import pandas as pd\n",
    "import matplotlib.pyplot as plt\n",
    "import seaborn as sns"
   ]
  },
  {
   "cell_type": "markdown",
   "metadata": {},
   "source": [
    "#### Step 2: Load and Preview the Dataset\n",
    "Load the dataset from the provided URL. Use df.head() to display the first few rows to get an overview of the structure.\n"
   ]
  },
  {
   "cell_type": "code",
   "execution_count": null,
   "metadata": {},
   "outputs": [],
   "source": [
    "# Load the Stack Overflow survey dataset\n",
    "data_url = 'https://cf-courses-data.s3.us.cloud-object-storage.appdomain.cloud/n01PQ9pSmiRX6520flujwQ/survey-data.csv'\n",
    "df = pd.read_csv(data_url)\n",
    "\n",
    "# Set pandas option to display all columns\n",
    "pd.set_option('display.max_columns', None)\n",
    "\n",
    "# Display the first few rows of the dataset\n",
    "df.head()"
   ]
  },
  {
   "cell_type": "markdown",
   "metadata": {},
   "source": [
    "#### Step 3: Handling Missing Data\n"
   ]
  },
  {
   "cell_type": "markdown",
   "metadata": {},
   "source": [
    "Identify and manage missing values in critical columns such as `Employment`, `JobSat`, and `RemoteWork`. Implement a strategy to fill or drop these values, depending on the significance of the missing data.\n"
   ]
  },
  {
   "cell_type": "code",
   "execution_count": null,
   "metadata": {},
   "outputs": [],
   "source": [
    "## Write your code here\n",
    "\n",
    "# Identify missing values\n",
    "missing_values = df[['Employment', 'JobSat', 'RemoteWork']].isnull().sum()\n",
    "print(missing_values)\n",
    "\n",
    "# Drop rows with missing values in critical columns\n",
    "df_cleaned = df.dropna(subset=['Employment', 'JobSat', 'RemoteWork'])\n",
    "\n",
    "# Verify the handling of missing values\n",
    "missing_values_after = df_cleaned[['Employment', 'JobSat', 'RemoteWork']].isnull().sum()\n",
    "print(missing_values_after)"
   ]
  },
  {
   "cell_type": "markdown",
   "metadata": {},
   "source": [
    "#### Step 4: Analysis of Experience and Job Satisfaction\n"
   ]
  },
  {
   "cell_type": "markdown",
   "metadata": {},
   "source": [
    "Analyze the relationship between years of professional coding experience (`YearsCodePro`) and job satisfaction (`JobSat`). Summarize `YearsCodePro` and calculate median satisfaction scores based on experience ranges.\n",
    "\n",
    "- Create experience ranges for `YearsCodePro` (e.g., `0-5`, `5-10`, `10-20`, `>20` years).\n",
    "\n",
    "- Calculate the median `JobSat` for each range.\n",
    "\n",
    "- Visualize the relationship using a bar plot or similar visualization.\n"
   ]
  },
  {
   "cell_type": "code",
   "execution_count": null,
   "metadata": {},
   "outputs": [],
   "source": [
    "## Write your code here\n",
    "\n",
    "# Convert YearsCodePro to numeric, coercing errors to NaN\n",
    "df['YearsCodePro'] = pd.to_numeric(df['YearsCodePro'], errors='coerce')\n",
    "\n",
    "# Create experience ranges\n",
    "experience_bins = [0, 5, 10, 20, float('inf')]\n",
    "experience_labels = ['0-5', '5-10', '10-20', '>20']\n",
    "df['ExperienceRange'] = pd.cut(df['YearsCodePro'], bins=experience_bins, labels=experience_labels, include_lowest=True)\n",
    "\n",
    "# Calculate median JobSat for each experience range\n",
    "median_jobsat = df.groupby('ExperienceRange', observed=False)['JobSat'].median().reset_index()\n",
    "\n",
    "# Plot the relationship\n",
    "plt.figure(figsize=(10, 6))\n",
    "sns.barplot(data=median_jobsat, x='ExperienceRange', y='JobSat')\n",
    "plt.xlabel('Years of Professional Coding Experience')\n",
    "plt.ylabel('Median Job Satisfaction')\n",
    "plt.title('Median Job Satisfaction by Years of Professional Coding Experience')\n",
    "plt.show()"
   ]
  },
  {
   "cell_type": "markdown",
   "metadata": {},
   "source": [
    "#### Step 5: Visualize Job Satisfaction\n"
   ]
  },
  {
   "cell_type": "markdown",
   "metadata": {},
   "source": [
    "Use a count plot to show the distribution of `JobSat` values. This provides insights into the overall satisfaction levels of respondents.\n"
   ]
  },
  {
   "cell_type": "code",
   "execution_count": null,
   "metadata": {},
   "outputs": [],
   "source": [
    "## Write your code here\n",
    "\n",
    "# Plot the distribution of JobSat values using a count plot\n",
    "plt.figure(figsize=(12, 6))\n",
    "sns.countplot(data=df, x='JobSat')\n",
    "plt.xlabel('Job Satisfaction')\n",
    "plt.ylabel('Count')\n",
    "plt.title('Distribution of Job Satisfaction Levels')\n",
    "plt.xticks(rotation=45)\n",
    "plt.show()"
   ]
  },
  {
   "cell_type": "markdown",
   "metadata": {},
   "source": [
    "#### Step 6: Analyzing Remote Work Preferences by Job Role\n"
   ]
  },
  {
   "cell_type": "markdown",
   "metadata": {},
   "source": [
    "Analyze trends in remote work based on job roles. Use the `RemoteWork` and `Employment` columns to explore preferences and examine if specific job roles prefer remote work more than others.\n",
    "\n",
    "- Use a count plot to show remote work distribution.\n",
    "\n",
    "- Cross-tabulate remote work preferences by employment type (e.g., full-time, part-time) and job roles.\n"
   ]
  },
  {
   "cell_type": "code",
   "execution_count": null,
   "metadata": {},
   "outputs": [],
   "source": [
    "## Write your code here\n",
    "\n",
    "import pandas as pd\n",
    "import matplotlib.pyplot as plt\n",
    "import seaborn as sns\n",
    "\n",
    "# Count plot for RemoteWork distribution\n",
    "plt.figure(figsize=(8, 6))\n",
    "sns.countplot(x='RemoteWork', data=df, hue='RemoteWork', palette=\"viridis\", legend=False)\n",
    "plt.title('Distribution of Remote Work Preferences')\n",
    "plt.xlabel('Remote Work Preference')\n",
    "plt.ylabel('Number of Respondents')\n",
    "plt.show()\n",
    "\n",
    "# Cross-tabulation of RemoteWork by Employment\n",
    "employment_remote_crosstab = pd.crosstab(df['Employment'], df['RemoteWork'])\n",
    "print(\"\\nCross-tabulation of Remote Work by Employment:\\n\", employment_remote_crosstab)\n",
    "\n",
    "# Cross-tabulation of RemoteWork by DevType (Job Role)\n",
    "\n",
    "# Fill missing values in DevType with 'Unknown' (corrected for chained assignment warning)\n",
    "df['DevType'] = df['DevType'].fillna('Unknown')\n",
    "\n",
    "# Function to safely check for substring in potentially NaN values\n",
    "def safe_contains(series, substring):\n",
    "    return series.astype(str).str.contains(substring, case=False, na=False)\n",
    "\n",
    "# Create a crosstab for each DevType\n",
    "dev_types = ['Developer', 'Engineer', 'Data scientist', 'Data analyst', 'Student', 'Academic', 'Educator', 'Scientist', 'Other']\n",
    "for dev_type in dev_types:\n",
    "    df[dev_type] = safe_contains(df['DevType'], dev_type)\n",
    "\n",
    "devtype_remote_crosstab = pd.DataFrame()\n",
    "for dev_type in dev_types:\n",
    "    devtype_remote_crosstab[dev_type] = df.groupby(dev_type)['RemoteWork'].value_counts(normalize=True).unstack().get('Yes', 0)\n",
    "\n",
    "print(\"\\nCross-tabulation of Remote Work by DevType (Percentage of 'Yes' for Remote Work):\\n\", devtype_remote_crosstab)"
   ]
  },
  {
   "cell_type": "code",
   "execution_count": null,
   "metadata": {},
   "outputs": [],
   "source": [
    "import pandas as pd\n",
    "import matplotlib.pyplot as plt\n",
    "import seaborn as sns\n",
    "\n",
    "# ... (Previous code for count plot and Employment cross-tabulation remains the same)\n",
    "\n",
    "# Cross-tabulation of RemoteWork by DevType (Job Role)\n",
    "\n",
    "# Fill missing values in DevType with 'Unknown'\n",
    "df['DevType'] = df['DevType'].fillna('Unknown')\n",
    "\n",
    "# Split the DevType string into a list of individual roles\n",
    "df['DevType_List'] = df['DevType'].str.split(';')\n",
    "\n",
    "# Explode the list so each role gets its own row\n",
    "df_exploded = df.explode('DevType_List')\n",
    "\n",
    "# Remove leading/trailing whitespace from exploded DevType values\n",
    "df_exploded['DevType_List'] = df_exploded['DevType_List'].str.strip()\n",
    "\n",
    "# Calculate the percentage of \"Remote\" for each DevType\n",
    "devtype_remote = df_exploded.groupby('DevType_List')['RemoteWork'].value_counts(normalize=True).unstack()\n",
    "devtype_remote_yes = devtype_remote.get('Remote', pd.Series(dtype='float64'))  # Handle cases where 'Remote' is missing\n",
    "\n",
    "print(\"\\nCross-tabulation of Remote Work by DevType (Percentage of 'Remote' for each DevType):\\n\", devtype_remote_yes)\n",
    "\n",
    "#Clean up the extra columns created\n",
    "df.drop(columns='DevType_List', inplace=True)\n",
    "df_exploded.drop(columns='DevType_List', inplace=True)"
   ]
  },
  {
   "cell_type": "code",
   "execution_count": null,
   "metadata": {},
   "outputs": [],
   "source": [
    "# Count plot to show remote work distribution\n",
    "plt.figure(figsize=(12, 6))\n",
    "sns.countplot(data=df, x='RemoteWork')\n",
    "plt.xlabel('Remote Work Preference')\n",
    "plt.ylabel('Count')\n",
    "plt.title('Distribution of Remote Work Preferences')\n",
    "plt.xticks(rotation=45)\n",
    "plt.show()\n",
    "\n",
    "# Cross-tabulate remote work preferences by employment type and job roles\n",
    "remote_work_crosstab = pd.crosstab(df['RemoteWork'], df['Employment'], normalize='index')\n",
    "remote_work_crosstab"
   ]
  },
  {
   "cell_type": "markdown",
   "metadata": {},
   "source": [
    "#### Step 7: Analyzing Programming Language Trends by Region\n"
   ]
  },
  {
   "cell_type": "markdown",
   "metadata": {},
   "source": [
    "Analyze the popularity of programming languages by region. Use the `LanguageHaveWorkedWith` column to investigate which languages are most used in different regions.\n",
    "\n",
    "- Filter data by country or region.\n",
    "\n",
    "- Visualize the top programming languages by region with a bar plot or heatmap.\n"
   ]
  },
  {
   "cell_type": "code",
   "execution_count": null,
   "metadata": {},
   "outputs": [],
   "source": [
    "## Write your code here\n",
    "\n",
    "# Explode the LanguageHaveWorkedWith column to analyze individual languages\n",
    "df_exploded = df.assign(LanguageHaveWorkedWith=df['LanguageHaveWorkedWith'].str.split(';')).explode('LanguageHaveWorkedWith')\n",
    "\n",
    "# Filter data by a specific country (e.g., 'United States of America')\n",
    "country_data = df_exploded[df_exploded['Country'] == 'United States of America']\n",
    "\n",
    "# Count the occurrences of each programming language\n",
    "language_counts = country_data['LanguageHaveWorkedWith'].value_counts().reset_index()\n",
    "language_counts.columns = ['Programming Language', 'Count']\n",
    "\n",
    "# Plot the top programming languages in the specified country\n",
    "plt.figure(figsize=(12, 8))\n",
    "sns.barplot(data=language_counts.head(10), x='Count', y='Programming Language', palette='viridis')\n",
    "plt.xlabel('Count')\n",
    "plt.ylabel('Programming Language')\n",
    "plt.title('Top Programming Languages in the United States')\n",
    "plt.show()\n",
    "\n",
    "# Optionally, visualize trends for multiple regions using a heatmap\n",
    "# Create a pivot table with countries as rows and programming languages as columns\n",
    "language_region_pivot = df_exploded.pivot_table(index='Country', columns='LanguageHaveWorkedWith', aggfunc='size', fill_value=0)\n",
    "\n",
    "# Plot the heatmap\n",
    "plt.figure(figsize=(20, 10))\n",
    "sns.heatmap(language_region_pivot, cmap='Blues', linewidths=.5)\n",
    "plt.xlabel('Programming Language')\n",
    "plt.ylabel('Country')\n",
    "plt.title('Programming Language Trends by Region')\n",
    "plt.show()"
   ]
  },
  {
   "cell_type": "code",
   "execution_count": null,
   "metadata": {},
   "outputs": [],
   "source": [
    "import pandas as pd\n",
    "import matplotlib.pyplot as plt\n",
    "import seaborn as sns\n",
    "\n",
    "# Function to safely check for substring in potentially NaN values\n",
    "def safe_contains(series, substring):\n",
    "    return series.astype(str).str.contains(substring, case=False, na=False)\n",
    "\n",
    "# Analyze language trends for specific regions (e.g., 'United States of America', 'India', 'Germany')\n",
    "regions = ['United States of America', 'India', 'Germany', 'Canada', 'United Kingdom of Great Britain and Northern Ireland']\n",
    "\n",
    "for region in regions:\n",
    "    # Filter data for the current region\n",
    "    df_region = df[df['Country'] == region].copy()\n",
    "\n",
    "    # Handle missing values and split the languages\n",
    "    df_region['LanguageHaveWorkedWith'].fillna('Unknown', inplace=True)\n",
    "    df_region['LanguageHaveWorkedWith_List'] = df_region['LanguageHaveWorkedWith'].str.split(';')\n",
    "\n",
    "    # Explode the language list\n",
    "    df_region_exploded = df_region.explode('LanguageHaveWorkedWith_List')\n",
    "    df_region_exploded['LanguageHaveWorkedWith_List'] = df_region_exploded['LanguageHaveWorkedWith_List'].str.strip()\n",
    "\n",
    "    # Count language occurrences\n",
    "    language_counts = df_region_exploded['LanguageHaveWorkedWith_List'].value_counts().drop(labels='Unknown', errors='ignore')\n",
    "\n",
    "    # Visualize the top languages (e.g., top 10)\n",
    "    top_n = min(10, len(language_counts))  # Show top 10 or fewer if there are less\n",
    "    top_languages = language_counts.head(top_n)\n",
    "\n",
    "    plt.figure(figsize=(12, 6))\n",
    "    top_languages.plot(kind='bar', color='skyblue')\n",
    "    plt.title(f'Top {top_n} Programming Languages in {region}')\n",
    "    plt.xlabel('Programming Language')\n",
    "    plt.ylabel('Number of Respondents')\n",
    "    plt.xticks(rotation=45, ha='right')\n",
    "    plt.tight_layout()\n",
    "    plt.show()\n",
    "    df_region.drop(columns='LanguageHaveWorkedWith_List', inplace=True)\n",
    "    df_region_exploded.drop(columns='LanguageHaveWorkedWith_List', inplace=True)"
   ]
  },
  {
   "cell_type": "markdown",
   "metadata": {},
   "source": [
    "#### Step 8: Correlation Between Experience and Satisfaction\n"
   ]
  },
  {
   "cell_type": "markdown",
   "metadata": {},
   "source": [
    "Examine how years of experience (`YearsCodePro`) correlate with job satisfaction (`JobSatPoints_1`). Use a scatter plot to visualize this relationship.\n"
   ]
  },
  {
   "cell_type": "code",
   "execution_count": null,
   "metadata": {},
   "outputs": [],
   "source": [
    "## Write your code here\n",
    "\n",
    "# Convert YearsCodePro to numeric, coercing errors to NaN\n",
    "df['YearsCodePro'] = pd.to_numeric(df['YearsCodePro'], errors='coerce')\n",
    "\n",
    "# Plot the scatter plot for YearsCodePro and JobSatPoints_1\n",
    "plt.figure(figsize=(12, 8))\n",
    "sns.scatterplot(data=df, x='YearsCodePro', y='JobSatPoints_1')\n",
    "plt.xlabel('Years of Professional Coding Experience')\n",
    "plt.ylabel('Job Satisfaction Score')\n",
    "plt.title('Correlation Between Years of Professional Coding Experience and Job Satisfaction')\n",
    "plt.show()"
   ]
  },
  {
   "cell_type": "code",
   "execution_count": null,
   "metadata": {},
   "outputs": [],
   "source": [
    "import pandas as pd\n",
    "import matplotlib.pyplot as plt\n",
    "import seaborn as sns\n",
    "\n",
    "# Convert 'YearsCodePro' to numeric, handling non-numeric values\n",
    "df['YearsCodePro'] = pd.to_numeric(df['YearsCodePro'], errors='coerce')\n",
    "\n",
    "# Drop rows where either 'YearsCodePro' or 'JobSatPoints_1' is NaN\n",
    "df.dropna(subset=['YearsCodePro', 'JobSatPoints_1'], inplace=True)\n",
    "\n",
    "# Create a scatter plot\n",
    "plt.figure(figsize=(10, 6))\n",
    "sns.scatterplot(x='YearsCodePro', y='JobSatPoints_1', data=df, alpha=0.5)  # Added alpha for better visualization with overlapping points\n",
    "plt.title('Correlation between Years of Professional Coding Experience and Job Satisfaction')\n",
    "plt.xlabel('Years of Professional Coding Experience')\n",
    "plt.ylabel('Job Satisfaction (JobSatPoints_1)')\n",
    "plt.grid(True) #Add grid for better readability\n",
    "plt.show()\n",
    "\n",
    "# Calculate and print the correlation coefficient\n",
    "correlation = df['YearsCodePro'].corr(df['JobSatPoints_1'])\n",
    "print(f\"Correlation coefficient: {correlation}\")"
   ]
  },
  {
   "cell_type": "markdown",
   "metadata": {},
   "source": [
    "#### Step 9: Educational Background and Employment Type\n"
   ]
  },
  {
   "cell_type": "markdown",
   "metadata": {},
   "source": [
    "Explore how educational background (`EdLevel`) relates to employment type (`Employment`). Use cross-tabulation and visualizations to understand if higher education correlates with specific employment types.\n"
   ]
  },
  {
   "cell_type": "code",
   "execution_count": null,
   "metadata": {},
   "outputs": [],
   "source": [
    "## Write your code here\n",
    "\n",
    "# Cross-tabulate educational background and employment type\n",
    "education_employment_crosstab = pd.crosstab(df['EdLevel'], df['Employment'], normalize='index')\n",
    "print(education_employment_crosstab)\n",
    "\n",
    "# Visualize the cross-tabulation with a heatmap\n",
    "plt.figure(figsize=(14, 10))\n",
    "sns.heatmap(education_employment_crosstab, annot=True, cmap='coolwarm', fmt='.2f')\n",
    "plt.xlabel('Employment Type')\n",
    "plt.ylabel('Educational Background')\n",
    "plt.title('Employment Type by Educational Background')\n",
    "plt.show()"
   ]
  },
  {
   "cell_type": "code",
   "execution_count": null,
   "metadata": {},
   "outputs": [],
   "source": [
    "import pandas as pd\n",
    "import matplotlib.pyplot as plt\n",
    "import seaborn as sns\n",
    "\n",
    "# Cross-tabulation of EdLevel and Employment\n",
    "edlevel_employment_crosstab = pd.crosstab(df['EdLevel'], df['Employment'])\n",
    "print(\"Cross-tabulation of Educational Level and Employment Type:\\n\", edlevel_employment_crosstab)\n",
    "\n",
    "# Normalize the cross-tabulation to show percentages within each EdLevel\n",
    "edlevel_employment_crosstab_normalized = edlevel_employment_crosstab.div(edlevel_employment_crosstab.sum(axis=1), axis=0)\n",
    "\n",
    "# Visualizing the normalized cross-tabulation\n",
    "plt.figure(figsize=(14, 8))\n",
    "sns.heatmap(edlevel_employment_crosstab_normalized, annot=True, cmap=\"YlGnBu\", fmt=\".1%\", linewidths=.5) #fmt=\".1%\" to display percentages with one decimal place\n",
    "plt.title('Relationship between Educational Level and Employment Type (Normalized)')\n",
    "plt.xlabel('Employment Type')\n",
    "plt.ylabel('Educational Level')\n",
    "plt.yticks(rotation=0)\n",
    "plt.show()\n",
    "\n",
    "# Visualizing the original cross-tabulation\n",
    "plt.figure(figsize=(14, 8))\n",
    "sns.heatmap(edlevel_employment_crosstab, annot=True, cmap=\"YlGnBu\", fmt=\"d\", linewidths=.5) #fmt=\"d\" to display as integers\n",
    "plt.title('Relationship between Educational Level and Employment Type (Counts)')\n",
    "plt.xlabel('Employment Type')\n",
    "plt.ylabel('Educational Level')\n",
    "plt.yticks(rotation=0)\n",
    "plt.show()"
   ]
  },
  {
   "cell_type": "code",
   "execution_count": null,
   "metadata": {},
   "outputs": [],
   "source": [
    "import pandas as pd\n",
    "import matplotlib.pyplot as plt\n",
    "import seaborn as sns\n",
    "\n",
    "# Simplify Employment categories\n",
    "def simplify_employment(employment):\n",
    "    if \"Employed, full-time\" in employment:\n",
    "        if \"Independent contractor\" in employment or \"freelancer\" in employment or \"self-employed\" in employment:\n",
    "            return \"Employed, full-time & Self-Employed\"\n",
    "        elif \"part-time\" in employment:\n",
    "          return \"Employed, full-time & part-time\"\n",
    "        elif \"Student\" in employment:\n",
    "          return \"Employed, full-time & Student\"\n",
    "        elif \"Retired\" in employment:\n",
    "          return \"Employed, full-time & Retired\"\n",
    "        else:\n",
    "            return \"Employed, full-time\"\n",
    "    elif \"Student\" in employment:\n",
    "        return \"Student\"\n",
    "    elif \"Not employed\" in employment:\n",
    "        return \"Not Employed\"\n",
    "    elif \"Independent contractor\" in employment or \"freelancer\" in employment or \"self-employed\" in employment:\n",
    "        return \"Self-Employed\"\n",
    "    elif \"Employed, part-time\" in employment:\n",
    "        return \"Employed, part-time\"\n",
    "    else:\n",
    "        return \"Other\"  # Catch-all for less frequent combinations\n",
    "\n",
    "df['Simplified_Employment'] = df['Employment'].apply(simplify_employment)\n",
    "\n",
    "# Cross-tabulation of EdLevel and Simplified Employment\n",
    "edlevel_simplified_employment_crosstab = pd.crosstab(df['EdLevel'], df['Simplified_Employment'])\n",
    "\n",
    "# Normalize the cross-tabulation\n",
    "edlevel_simplified_employment_crosstab_normalized = edlevel_simplified_employment_crosstab.div(edlevel_simplified_employment_crosstab.sum(axis=1), axis=0)\n",
    "\n",
    "# Visualizing the normalized cross-tabulation\n",
    "plt.figure(figsize=(12, 8))\n",
    "sns.heatmap(edlevel_simplified_employment_crosstab_normalized, annot=True, cmap=\"YlGnBu\", fmt=\".1%\", linewidths=.5)\n",
    "plt.title('Relationship between Educational Level and Simplified Employment Type (Normalized)')\n",
    "plt.xlabel('Simplified Employment Type')\n",
    "plt.ylabel('Educational Level')\n",
    "plt.yticks(rotation=0)\n",
    "plt.show()\n",
    "\n",
    "# Visualizing the original cross-tabulation (Counts)\n",
    "plt.figure(figsize=(12, 8))\n",
    "sns.heatmap(edlevel_simplified_employment_crosstab, annot=True, cmap=\"YlGnBu\", fmt=\"d\", linewidths=.5)\n",
    "plt.title('Relationship between Educational Level and Simplified Employment Type (Counts)')\n",
    "plt.xlabel('Simplified Employment Type')\n",
    "plt.ylabel('Educational Level')\n",
    "plt.yticks(rotation=0)\n",
    "plt.show()"
   ]
  },
  {
   "cell_type": "markdown",
   "metadata": {},
   "source": [
    "#### Step 10: Save the Cleaned and Analyzed Dataset\n"
   ]
  },
  {
   "cell_type": "markdown",
   "metadata": {},
   "source": [
    "After your analysis, save the modified dataset for further use or sharing.\n"
   ]
  },
  {
   "cell_type": "code",
   "execution_count": null,
   "metadata": {},
   "outputs": [],
   "source": [
    "## Write your code here\n",
    "\n",
    "# Save the cleaned and analyzed DataFrame to a new CSV file\n",
    "df.to_csv('cleaned_survey_data.csv', index=False)\n",
    "\n",
    "# If you also want to save the exploded dataframe\n",
    "#df_exploded.to_csv('cleaned_survey_data_exploded.csv', index = False)"
   ]
  },
  {
   "cell_type": "markdown",
   "metadata": {},
   "source": [
    "<h2>Summary</h2>\n"
   ]
  },
  {
   "cell_type": "markdown",
   "metadata": {},
   "source": [
    "In this revised lab, you:\n",
    "\n",
    "- Loaded and explored the structure of the dataset.\n",
    "\n",
    "- Handled missing data effectively.\n",
    "\n",
    "- Analyzed key variables, including working hours, job satisfaction, and remote work trends.\n",
    "\n",
    "- Investigated programming language usage by region and examined the relationship between experience and satisfaction.\n",
    "\n",
    "- Used cross-tabulation to understand educational background and employment type.\n"
   ]
  },
  {
   "cell_type": "markdown",
   "metadata": {},
   "source": [
    "Copyright © IBM Corporation. All rights reserved.\n"
   ]
  }
 ],
 "metadata": {
  "kernelspec": {
   "display_name": "Python 3 (ipykernel)",
   "language": "python",
   "name": "python3"
  },
  "language_info": {
   "codemirror_mode": {
    "name": "ipython",
    "version": 3
   },
   "file_extension": ".py",
   "mimetype": "text/x-python",
   "name": "python",
   "nbconvert_exporter": "python",
   "pygments_lexer": "ipython3",
   "version": "3.12.8"
  },
  "prev_pub_hash": "2a4f0935f8d3cf9549d9e18dbbd812b8dd5a034c94517c8adba13875f8268801"
 },
 "nbformat": 4,
 "nbformat_minor": 4
}
